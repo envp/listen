{
 "cells": [
  {
   "cell_type": "markdown",
   "metadata": {},
   "source": [
    "# Speech2Text - Audio Pre Processing\n",
    "\n",
    "## Introduction\n",
    "The intent of this notebook is to demonstrate the methodology for cleaning datasets employed by us. Cleaning up datasets refers to transforming it so that metadata such as individual sample length, mean SNR of the sample etc are not parameters that end up strongly affecting our network. The details of each operations are listed below"
   ]
  },
  {
   "cell_type": "code",
   "execution_count": null,
   "metadata": {
    "collapsed": false,
    "hidden": true
   },
   "outputs": [],
   "source": [
    "%reload_ext autoreload \n",
    "%autoreload 2"
   ]
  },
  {
   "cell_type": "markdown",
   "metadata": {},
   "source": [
    "## Pipeline\n",
    "There are various parts to the pipeline, starting from the most obvious one, which is to wrap and load data as a single object. This is achieved via the [AN4](data/an4/an4.py) definition. It provides a composition of iterable objects that we can use for some _initial hand-wavy_ analysis without too much pain.\n",
    "\n",
    "The totality of the pipeline resembles this chain:\n",
    "\n",
    "`Load Data -> Denoise Audio -> [Cache Denoised Audio]`\n",
    "\n",
    "The code cell below shows code for reading all of the audio files and transforming them into spectrograms creating using `scipy`\n",
    "\n",
    "I used ffmpeg to batch convert the raw files to wav files with proper headers, which are then loaded using `scipy.io.wavfile`.\n",
    "\n",
    "Below is the directory structure:\n",
    "```\n",
    "notebook\n",
    "    |_data\n",
    "        |_an4\n",
    "            |_etc\n",
    "                |... (metadata files here)\n",
    "            |_wav\n",
    "                |_an4_cltsk\n",
    "                    |_...\n",
    "                    |_...\n",
    "                |_an4test_cltsk\n",
    "                    |_...\n",
    "                    |_...\n",
    "            an4.py\n",
    "            __init__.py\n",
    "        __init__.py\n",
    "```\n",
    "\n",
    "The coming cell demonstrates code to generate and save spectrograms locally."
   ]
  },
  {
   "cell_type": "code",
   "execution_count": null,
   "metadata": {
    "collapsed": false
   },
   "outputs": [],
   "source": [
    "from data.an4.an4 import AN4\n",
    "import pprint\n",
    "import os\n",
    "import numpy as np\n",
    "from scipy import signal\n",
    "from scipy.io import wavfile\n",
    "from matplotlib import pyplot as plt\n",
    "\n",
    "an4data = AN4(debug=False, conversion=False)\n",
    "\n",
    "for filename in an4data.trainset.data:\n",
    "    rate, data = wavfile.read(filename) \n",
    "    f, t, s = signal.spectrogram(data, rate, mode='magnitude')\n",
    "    plt.pcolormesh(t, f, s)\n",
    "    plt.ylabel('Frequency [Hz]')\n",
    "    plt.xlabel('Time [sec]')\n",
    "    plt.savefig(filename.replace('.wav', '.png'))"
   ]
  }
 ],
 "metadata": {
  "celltoolbar": "Edit Metadata",
  "kernelspec": {
   "display_name": "Python 3",
   "language": "python",
   "name": "python3"
  },
  "language_info": {
   "codemirror_mode": {
    "name": "ipython",
    "version": 3
   },
   "file_extension": ".py",
   "mimetype": "text/x-python",
   "name": "python",
   "nbconvert_exporter": "python",
   "pygments_lexer": "ipython3",
   "version": "3.5.3"
  }
 },
 "nbformat": 4,
 "nbformat_minor": 2
}
